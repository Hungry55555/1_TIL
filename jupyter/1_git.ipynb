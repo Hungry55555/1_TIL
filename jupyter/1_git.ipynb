{
 "cells": [
  {
   "cell_type": "markdown",
   "id": "75a9e640-9dd1-4046-9438-0b803ba156e6",
   "metadata": {},
   "source": [
    "ee"
   ]
  },
  {
   "cell_type": "raw",
   "id": "acac57d8-f97b-4899-8fc8-5fc9824b193b",
   "metadata": {},
   "source": [
    "ddd"
   ]
  },
  {
   "cell_type": "code",
   "execution_count": null,
   "id": "80a2b48f-a5a8-4656-9239-80990491afb8",
   "metadata": {},
   "outputs": [],
   "source": [
    "def "
   ]
  },
  {
   "cell_type": "code",
   "execution_count": null,
   "id": "0a60252b-5ce0-492c-967e-4bff83ee8b1d",
   "metadata": {},
   "outputs": [],
   "source": []
  }
 ],
 "metadata": {
  "kernelspec": {
   "display_name": "Python 3 (ipykernel)",
   "language": "python",
   "name": "python3"
  },
  "language_info": {
   "codemirror_mode": {
    "name": "ipython",
    "version": 3
   },
   "file_extension": ".py",
   "mimetype": "text/x-python",
   "name": "python",
   "nbconvert_exporter": "python",
   "pygments_lexer": "ipython3",
   "version": "3.9.13"
  }
 },
 "nbformat": 4,
 "nbformat_minor": 5
}
