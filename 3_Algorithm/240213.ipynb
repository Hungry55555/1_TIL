{
 "cells": [
  {
   "cell_type": "code",
   "execution_count": 14,
   "metadata": {},
   "outputs": [
    {
     "name": "stdout",
     "output_type": "stream",
     "text": [
      "6528-*2/+\n"
     ]
    }
   ],
   "source": [
    "'''\n",
    "fx = (6+5*(2-8)/2)\n",
    "'''\n",
    "\n",
    "\n",
    "\n",
    "top = -1\n",
    "stack = [0]*100\n",
    "icp = {'(':3,'*':2,'/':2,'+':1,'-':1}\n",
    "isp = {'(':0,'*':2,'/':2,'+':1,'-':1}\n",
    "\n",
    "fx = '(6+5*(2-8)/2)'\n",
    "postfix =''\n",
    "for tk in fx:\n",
    "    # 여는 괄호 push, 연산자이고 top 원소보다 우선순위가 높으면 push\n",
    "    if tk == '(' or (tk in '*/+-' and isp[stack[top]] < icp[tk]):\n",
    "        top += 1    # push\n",
    "        stack[top] = tk\n",
    "    elif tk in '*/+-' and isp[stack[top]]>= icp[tk]:   # 연산자이고 top원소보다 우선순위가 높지 않으면\n",
    "        while isp[stack[top]]>= icp[tk]:    # top 원소의 우선순위가 낮을 때까지 pop\n",
    "            top -= 1 # pop\n",
    "            postfix += stack[top+1]\n",
    "        top += 1    # push\n",
    "        stack[top] = tk\n",
    "    elif tk == ')': # 닫는 괄호면, 여는 괄호를 만날때까지 pop\n",
    "        while stack[top]!='(':\n",
    "            top -= 1            # pop\n",
    "            postfix += stack[top+1]\n",
    "        top-=1  # 여는 괄호 pop 해서 버림\n",
    "        stack[top+1]\n",
    "    else:       # 피연산자인 경우\n",
    "        postfix += tk\n",
    "\n",
    "print(postfix)\n",
    "\n"
   ]
  },
  {
   "cell_type": "code",
   "execution_count": 11,
   "metadata": {},
   "outputs": [
    {
     "name": "stdout",
     "output_type": "stream",
     "text": [
      "1 2 3 4 \n",
      "1 2 3 \n",
      "1 2 4 \n",
      "1 2 \n",
      "1 3 4 \n",
      "1 3 \n",
      "1 4 \n",
      "1 \n",
      "2 3 4 \n",
      "2 3 \n",
      "2 4 \n",
      "2 \n",
      "3 4 \n",
      "3 \n",
      "4 \n",
      "\n"
     ]
    }
   ],
   "source": [
    "def f(i,k):\n",
    "    if i==k:\n",
    "        for j in range(k):\n",
    "            if bit[j]:\n",
    "                print(arr[j], end = ' ')\n",
    "\n",
    "        print()\n",
    "    else:\n",
    "        # for j in range(2):\n",
    "        #     bit[i]=j\n",
    "        #     f(i+1, k)\n",
    "\n",
    "        bit[i] = 1\n",
    "        f(i+1,k)\n",
    "        bit[i] = 0\n",
    "        f(i+1,k)\n",
    "N = 4\n",
    "arr = [1,2,3,4]\n",
    "bit = [0]*N     # bit[i] : arr[i]가 부분집합에 포함되었느닞 나타내는 배열\n",
    "f(0,N)          # bit[i]에 1또는 0을 채우고, N개의 원소가 결정되면 부분집합 출력"
   ]
  }
 ],
 "metadata": {
  "kernelspec": {
   "display_name": "Python 3",
   "language": "python",
   "name": "python3"
  },
  "language_info": {
   "codemirror_mode": {
    "name": "ipython",
    "version": 3
   },
   "file_extension": ".py",
   "mimetype": "text/x-python",
   "name": "python",
   "nbconvert_exporter": "python",
   "pygments_lexer": "ipython3",
   "version": "3.9.13"
  }
 },
 "nbformat": 4,
 "nbformat_minor": 2
}
