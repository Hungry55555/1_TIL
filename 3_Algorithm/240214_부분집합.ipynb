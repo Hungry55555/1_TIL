{
 "cells": [
  {
   "cell_type": "markdown",
   "metadata": {},
   "source": [
    "1,0 비트연산으로 부분집합 그 부분 이해가 잘 안되었던 거 같으니 다시 보러갈 것\n",
    "지금 맨땅에 쓰기는 할 수 없음\n",
    "아자자\n",
    "비트 연산에서 1<<n이 원소가 n개일 때 2의 n제곱이라는 의미라는데 이게 어케되는건지 생각해 보자.\n",
    "n이 3이라고 생각해보자\n",
    "1<<3 비트열을 왼쪽으로 이동시킨다는데 뭔소리징\n",
    "(1,2,3)\n",
    "이진법으로 \n",
    "000\n",
    "0b1000=8\n",
    "범위 8까지해서 0~7\n",
    "범위 1<<j(j는 0~2)\n",
    "0과 0\n",
    "0은 전부 \n",
    "{}\n",
    "1과 0\n",
    "{}\n",
    "1과1\n",
    "{1}\n",
    "\n",
    "010과 010\n",
    "{2}\n",
    "011과 001\n",
    "{1,2}\n",
    "100과 100\n",
    "{3}\n",
    "101과 001\n",
    "{1,3}\n",
    "110 001\n",
    "{2,3}\n",
    "111\n",
    "{1,2,3}\n",
    "\n",
    "\n",
    "\n",
    "\n"
   ]
  },
  {
   "cell_type": "markdown",
   "metadata": {},
   "source": [
    "bit[i]가 나타내는것은 A[i]의 포함 여부\n",
    "비트 0의 값을 결정!\n",
    "비트 i 값을 1 또는 0으로 나타내는 방식으로 해야함\n",
    "포함되는 경우를 먼저 따져보기\n",
    "비트 0을 포함시키기!\n",
    "A의 0번 원소가 부분집합에 포함되는 경우를 가정하고 다음으로 넘어감\n"
   ]
  },
  {
   "cell_type": "code",
   "execution_count": 2,
   "metadata": {},
   "outputs": [
    {
     "ename": "KeyboardInterrupt",
     "evalue": "",
     "output_type": "error",
     "traceback": [
      "\u001b[1;31m---------------------------------------------------------------------------\u001b[0m",
      "\u001b[1;31mKeyboardInterrupt\u001b[0m                         Traceback (most recent call last)",
      "Cell \u001b[1;32mIn[2], line 1\u001b[0m\n\u001b[1;32m----> 1\u001b[0m \u001b[38;5;28;01mdef\u001b[39;00m \u001b[38;5;21mf\u001b[39m(i,k):\n\u001b[0;32m      2\u001b[0m     \u001b[38;5;28;01mif\u001b[39;00m i\u001b[38;5;241m==\u001b[39mk:\n\u001b[0;32m      3\u001b[0m         \u001b[38;5;28;01mfor\u001b[39;00m j \u001b[38;5;129;01min\u001b[39;00m \u001b[38;5;28mrange\u001b[39m(k):\n",
      "Cell \u001b[1;32mIn[2], line 1\u001b[0m\n\u001b[1;32m----> 1\u001b[0m \u001b[38;5;28;01mdef\u001b[39;00m \u001b[38;5;21mf\u001b[39m(i,k):\n\u001b[0;32m      2\u001b[0m     \u001b[38;5;28;01mif\u001b[39;00m i\u001b[38;5;241m==\u001b[39mk:\n\u001b[0;32m      3\u001b[0m         \u001b[38;5;28;01mfor\u001b[39;00m j \u001b[38;5;129;01min\u001b[39;00m \u001b[38;5;28mrange\u001b[39m(k):\n",
      "File \u001b[1;32m_pydevd_bundle/pydevd_cython.pyx:1457\u001b[0m, in \u001b[0;36m_pydevd_bundle.pydevd_cython.SafeCallWrapper.__call__\u001b[1;34m()\u001b[0m\n",
      "File \u001b[1;32m_pydevd_bundle/pydevd_cython.pyx:701\u001b[0m, in \u001b[0;36m_pydevd_bundle.pydevd_cython.PyDBFrame.trace_dispatch\u001b[1;34m()\u001b[0m\n",
      "File \u001b[1;32m_pydevd_bundle/pydevd_cython.pyx:1152\u001b[0m, in \u001b[0;36m_pydevd_bundle.pydevd_cython.PyDBFrame.trace_dispatch\u001b[1;34m()\u001b[0m\n",
      "File \u001b[1;32m_pydevd_bundle/pydevd_cython.pyx:1135\u001b[0m, in \u001b[0;36m_pydevd_bundle.pydevd_cython.PyDBFrame.trace_dispatch\u001b[1;34m()\u001b[0m\n",
      "File \u001b[1;32m_pydevd_bundle/pydevd_cython.pyx:312\u001b[0m, in \u001b[0;36m_pydevd_bundle.pydevd_cython.PyDBFrame.do_wait_suspend\u001b[1;34m()\u001b[0m\n",
      "File \u001b[1;32mc:\\Users\\SSAFY\\AppData\\Local\\Programs\\Python\\Python39\\lib\\site-packages\\debugpy\\_vendored\\pydevd\\pydevd.py:2070\u001b[0m, in \u001b[0;36mPyDB.do_wait_suspend\u001b[1;34m(self, thread, frame, event, arg, exception_type)\u001b[0m\n\u001b[0;32m   2067\u001b[0m             from_this_thread\u001b[38;5;241m.\u001b[39mappend(frame_custom_thread_id)\n\u001b[0;32m   2069\u001b[0m     \u001b[38;5;28;01mwith\u001b[39;00m \u001b[38;5;28mself\u001b[39m\u001b[38;5;241m.\u001b[39m_threads_suspended_single_notification\u001b[38;5;241m.\u001b[39mnotify_thread_suspended(thread_id, thread, stop_reason):\n\u001b[1;32m-> 2070\u001b[0m         keep_suspended \u001b[38;5;241m=\u001b[39m \u001b[38;5;28;43mself\u001b[39;49m\u001b[38;5;241;43m.\u001b[39;49m\u001b[43m_do_wait_suspend\u001b[49m\u001b[43m(\u001b[49m\u001b[43mthread\u001b[49m\u001b[43m,\u001b[49m\u001b[43m \u001b[49m\u001b[43mframe\u001b[49m\u001b[43m,\u001b[49m\u001b[43m \u001b[49m\u001b[43mevent\u001b[49m\u001b[43m,\u001b[49m\u001b[43m \u001b[49m\u001b[43marg\u001b[49m\u001b[43m,\u001b[49m\u001b[43m \u001b[49m\u001b[43msuspend_type\u001b[49m\u001b[43m,\u001b[49m\u001b[43m \u001b[49m\u001b[43mfrom_this_thread\u001b[49m\u001b[43m,\u001b[49m\u001b[43m \u001b[49m\u001b[43mframes_tracker\u001b[49m\u001b[43m)\u001b[49m\n\u001b[0;32m   2072\u001b[0m frames_list \u001b[38;5;241m=\u001b[39m \u001b[38;5;28;01mNone\u001b[39;00m\n\u001b[0;32m   2074\u001b[0m \u001b[38;5;28;01mif\u001b[39;00m keep_suspended:\n\u001b[0;32m   2075\u001b[0m     \u001b[38;5;66;03m# This means that we should pause again after a set next statement.\u001b[39;00m\n",
      "File \u001b[1;32mc:\\Users\\SSAFY\\AppData\\Local\\Programs\\Python\\Python39\\lib\\site-packages\\debugpy\\_vendored\\pydevd\\pydevd.py:2106\u001b[0m, in \u001b[0;36mPyDB._do_wait_suspend\u001b[1;34m(self, thread, frame, event, arg, suspend_type, from_this_thread, frames_tracker)\u001b[0m\n\u001b[0;32m   2103\u001b[0m         \u001b[38;5;28mself\u001b[39m\u001b[38;5;241m.\u001b[39m_call_input_hook()\n\u001b[0;32m   2105\u001b[0m     \u001b[38;5;28mself\u001b[39m\u001b[38;5;241m.\u001b[39mprocess_internal_commands()\n\u001b[1;32m-> 2106\u001b[0m     \u001b[43mtime\u001b[49m\u001b[38;5;241;43m.\u001b[39;49m\u001b[43msleep\u001b[49m\u001b[43m(\u001b[49m\u001b[38;5;241;43m0.01\u001b[39;49m\u001b[43m)\u001b[49m\n\u001b[0;32m   2108\u001b[0m \u001b[38;5;28mself\u001b[39m\u001b[38;5;241m.\u001b[39mcancel_async_evaluation(get_current_thread_id(thread), \u001b[38;5;28mstr\u001b[39m(\u001b[38;5;28mid\u001b[39m(frame)))\n\u001b[0;32m   2110\u001b[0m \u001b[38;5;66;03m# process any stepping instructions\u001b[39;00m\n",
      "\u001b[1;31mKeyboardInterrupt\u001b[0m: "
     ]
    }
   ],
   "source": [
    "def f(i,k):\n",
    "    if i==k:\n",
    "        for j in range(k):\n",
    "            if bit[j]:\n",
    "                print(arr[j],end=' ')\n",
    "        print()\n",
    "    else:\n",
    "        # for j in range(2):\n",
    "        #   bit[i]=j\n",
    "        #   f(i+1,k)\n",
    "        bit[i] = 1\n",
    "        f(i+1,k)\n",
    "        bit[i]=0\n",
    "        f(i+1,k)\n",
    "\n",
    "N = 4\n",
    "arr = [1,2,3,4]\n",
    "bit = [0]*N     # bit[i]:arr[i]가 부분집합에 포함되었는지 나타내는 배열\n",
    "f(0,N)          # bit[i]에 1또는 0을 채우고, N개의 원소가 결정되면"
   ]
  },
  {
   "cell_type": "markdown",
   "metadata": {},
   "source": [
    "\n"
   ]
  },
  {
   "cell_type": "code",
   "execution_count": 14,
   "metadata": {},
   "outputs": [
    {
     "name": "stdout",
     "output_type": "stream",
     "text": [
      "1 2 3 4 \n",
      "1 2 7 \n",
      "1 3 6 \n",
      "1 4 5 \n",
      "1 9 \n",
      "2 3 5 \n",
      "2 8 \n",
      "3 7 \n",
      "4 6 \n",
      "10 \n"
     ]
    }
   ],
   "source": [
    "def f(i,k,t):\n",
    "    if i == k:      # 모든 원소에 대해 결정하면\n",
    "        ss = 0      # 부분집합 원소의 합\n",
    "        for j in range(k):\n",
    "            if bit[j]:      # A[i]가 포함된 경우\n",
    "                # print(A[j],end=' ')    \n",
    "                ss += A[j]\n",
    "        if ss==t:\n",
    "            for j in range(k):\n",
    "                if bit[j]:\n",
    "                    print(A[j],end = ' ')\n",
    "            print()\n",
    " \n",
    "    else:       # 갈림길이 두개라는건 내부에서 호출이 두번!\n",
    "        bit[i] = 1\n",
    "        f(i+1,k,t)\n",
    "        bit[i]=0\n",
    "        f(i+1,k,t)\n",
    "\n",
    "N = 10\n",
    "A = [1,2,3,4,5,6,7,8,9,10]\n",
    "bit = [0] * N   # bit[i]는 A[i]가 부분 집합에 포함되는지 표시\n",
    "f(0,N,10)\n"
   ]
  },
  {
   "cell_type": "code",
   "execution_count": null,
   "metadata": {},
   "outputs": [],
   "source": []
  }
 ],
 "metadata": {
  "kernelspec": {
   "display_name": "Python 3",
   "language": "python",
   "name": "python3"
  },
  "language_info": {
   "codemirror_mode": {
    "name": "ipython",
    "version": 3
   },
   "file_extension": ".py",
   "mimetype": "text/x-python",
   "name": "python",
   "nbconvert_exporter": "python",
   "pygments_lexer": "ipython3",
   "version": "3.9.13"
  }
 },
 "nbformat": 4,
 "nbformat_minor": 2
}
