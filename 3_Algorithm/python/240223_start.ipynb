{
 "cells": [
  {
   "cell_type": "code",
   "execution_count": 1,
   "metadata": {},
   "outputs": [
    {
     "name": "stdout",
     "output_type": "stream",
     "text": [
      "0b11010\n",
      "1211\n",
      "446\n",
      "27\n",
      "26 f\n",
      "0b1010\n",
      "0xa\n",
      "11\n",
      "11\n"
     ]
    }
   ],
   "source": [
    "print(bin(0b11011110&0b11011))\n",
    "print(0x4A3 | 25)\n",
    "print(0b110111110)\n",
    "print(0b11011)\n",
    "print(446&27,'f')\n",
    "print(bin(10))\n",
    "print(hex(10))\n",
    "print(int('1011',2))\n",
    "print(int('b',16))"
   ]
  },
  {
   "cell_type": "markdown",
   "metadata": {},
   "source": []
  },
  {
   "cell_type": "markdown",
   "metadata": {},
   "source": [
    "XOR 연산자^\n",
    "같으면 0 다르면 1\n",
    "not or 과 다름!\n"
   ]
  },
  {
   "cell_type": "code",
   "execution_count": 9,
   "metadata": {},
   "outputs": [],
   "source": [
    "\n",
    "print(1000^1004)\n",
    "print(4^1004)\n"
   ]
  },
  {
   "cell_type": "markdown",
   "metadata": {},
   "source": [
    "쉬프트 연산자\n",
    "<<레프트 시프트 연산자는 왼쪽으로 밀어낸다\n",
    "num<<2 2회이동\n",
    "0b1101<<2라는게 있는데 이게 밀어내면?\n",
    "110100\n",
    "밀리고 난 빈공간 오른쪽에 0이 생성된다!\n"
   ]
  },
  {
   "cell_type": "markdown",
   "metadata": {},
   "source": [
    "MSB 가장 높은 자리가 1이면?음수\n",
    "MSB가 0이면 양수\n",
    "2의 보수 구하는 방법?\n",
    "\n",
    "1. 뒤집는다\n",
    "2. +1 한다\n",
    "~not 연산자 모든 비트를 반전 시킨다\n"
   ]
  },
  {
   "cell_type": "markdown",
   "metadata": {},
   "source": [
    "실수\n",
    "{t2:2f}\n",
    "소수 2자리까지 반올림\n",
    ":nf n자리까지 반올림\n",
    "\n",
    "근사값\n",
    "\n"
   ]
  }
 ],
 "metadata": {
  "kernelspec": {
   "display_name": "Python 3",
   "language": "python",
   "name": "python3"
  },
  "language_info": {
   "codemirror_mode": {
    "name": "ipython",
    "version": 3
   },
   "file_extension": ".py",
   "mimetype": "text/x-python",
   "name": "python",
   "nbconvert_exporter": "python",
   "pygments_lexer": "ipython3",
   "version": "3.9.13"
  }
 },
 "nbformat": 4,
 "nbformat_minor": 2
}
