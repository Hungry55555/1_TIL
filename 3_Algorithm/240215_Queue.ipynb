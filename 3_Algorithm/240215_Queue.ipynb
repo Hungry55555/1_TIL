{
 "cells": [
  {
   "cell_type": "markdown",
   "metadata": {},
   "source": [
    "# Queue의 특성\n",
    "* 스택처럼 삽입 삭제가 제한적\n",
    "  * 삽입(enQueue): 큐의 뒤,  삭제(deQueue): 큐의 앞\n",
    "* 선입선출구조(FIFO: First in first out)\n",
    "  * 삽입한 순서대로 원소가 저장되고, 먼저 삽입된건 가장 먼저 삭제(First out)된다.\n",
    "front: 마지막으로 삭제된 인덱스, 저장된 첫 번째 원소의 인덱스\n",
    "rear: 저장된 마지막 원소의 인덱스\n",
    "\n",
    "가장 먼저 들어온 방식이 아니라 다음 번에 꺼낼애가 프론트 뒤에 있는 애다 라는 방식으로 사용"
   ]
  },
  {
   "cell_type": "markdown",
   "metadata": {},
   "source": [
    "원형 큐???\n"
   ]
  },
  {
   "cell_type": "markdown",
   "metadata": {},
   "source": [
    "## 우선 순위 큐\n",
    "* 우선 순위 가진 항목을 저장\n",
    "FIFO가 아니라 우선순위가 높은 순서대로 먼저 나감\n"
   ]
  },
  {
   "cell_type": "markdown",
   "metadata": {},
   "source": []
  }
 ],
 "metadata": {
  "language_info": {
   "name": "python"
  }
 },
 "nbformat": 4,
 "nbformat_minor": 2
}
