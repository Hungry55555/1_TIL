{
 "cells": [
  {
   "cell_type": "code",
   "execution_count": null,
   "metadata": {},
   "outputs": [],
   "source": [
    "def preorder_traverse(T):\n",
    "    if T:\n",
    "        visit(T)\n",
    "        preorder_traverse(T.left)\n",
    "        preorder_traverse(T.right)"
   ]
  },
  {
   "cell_type": "markdown",
   "metadata": {},
   "source": [
    "전위 순회\n",
    "어떤 정점에 방문했을때\n",
    "걔가 존재하고 유효한 노드인지\n",
    "\n",
    "1. 어떤 트리를 다루고 있는가 살펴보기!\n",
    "2. \n",
    "1번~N번 정점\n",
    "if T>0:\n",
    "부모가 어디꼈나에 따라서 전위 중위 후위임\n",
    "손으로 따라가기...\n",
    "재귀 쉽지 않다능\n"
   ]
  },
  {
   "cell_type": "code",
   "execution_count": null,
   "metadata": {},
   "outputs": [],
   "source": [
    "c = 5\n",
    "while(a[c] != 0)    # 루트인지 확인\n",
    "    c = a[c]\n",
    "    anc.append(c)   # 조상목록\n",
    "root = c"
   ]
  },
  {
   "cell_type": "markdown",
   "metadata": {},
   "source": [
    "heap키 값이 가장 큰 노드를 찾는 최대 힙이라고 불리는 구조가 있고 최소힙이라고 불리는 구조가 있음\n"
   ]
  }
 ],
 "metadata": {
  "language_info": {
   "name": "python"
  }
 },
 "nbformat": 4,
 "nbformat_minor": 2
}
